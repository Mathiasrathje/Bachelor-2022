{
 "cells": [
  {
   "cell_type": "code",
   "execution_count": 1,
   "id": "32cf05be",
   "metadata": {},
   "outputs": [],
   "source": [
    "import numpy as np\n",
    "import matplotlib.pyplot as plt\n",
    "from scipy.stats import norm"
   ]
  },
  {
   "cell_type": "code",
   "execution_count": 2,
   "id": "6ea11869",
   "metadata": {},
   "outputs": [],
   "source": [
    "def BS_call_price(sigma, S, K, r, T, t):\n",
    "    #Danner d1 og d2:\n",
    "    #d1: Sandsynligheden for, at optionen ender ITM under det ækvivalente martingalmål med det underliggende aktiv som numeraire\n",
    "    d1 = np.multiply(1. / (sigma*np.sqrt((T-t))),(np.log(S/K) + (r + sigma**2 / 2.) * (T-t)))\n",
    "    \n",
    "    #d2: Sandsynligheden for, at optionen ender ITM under det ækvivalente martingalmål med den risikofrie obligation som numeraire\n",
    "    d2 = d1 - sigma * np.sqrt((T-t))\n",
    "    \n",
    "    #Udregner vores Call-pris:\n",
    "    call = np.multiply(norm.cdf(d1),S) - np.multiply(norm.cdf(d2) * K, np.exp(-r * (T-t)))\n",
    "    \n",
    "    return call"
   ]
  },
  {
   "cell_type": "code",
   "execution_count": 3,
   "id": "6e1bbde4",
   "metadata": {},
   "outputs": [],
   "source": [
    "def bachelier(sigma, S, K, r, T, t):\n",
    "    sigma1 = sigma*S\n",
    "    \n",
    "    z = (S - K * np.exp(-r*(T-t)))/(sigma1*np.sqrt((1-np.exp(-2*r*(T-t)))/(2*r)))\n",
    "    \n",
    "    C = (S - K * np.exp(-r*(T-t)))*norm.cdf(z) + sigma1 *np.sqrt((1-np.exp(-2*r*(T-t)))/(2*r)) * norm.pdf(z)\n",
    "    \n",
    "    #Bemærkning: bemærk forskel mellem stor og lille phi.\n",
    "    \n",
    "    return C"
   ]
  },
  {
   "cell_type": "code",
   "execution_count": 4,
   "id": "d8d3a48a",
   "metadata": {},
   "outputs": [],
   "source": [
    "\"\"\"Sammenligner forskellige Strike-priser\"\"\"\n",
    "S = np.linspace(90, 110, 100)\n",
    "\n",
    "#Sætter konstant af andre værdier:\n",
    "sigma = 0.1\n",
    "r = 0.05\n",
    "T = 3\n",
    "t = 0\n",
    "K = 105\n",
    "\n",
    "#  Calculate option prices based on both models"
   ]
  },
  {
   "cell_type": "code",
   "execution_count": 5,
   "id": "f99ced7c",
   "metadata": {},
   "outputs": [],
   "source": [
    "C_bs = BS_call_price(sigma, S, K, r, T, t)     #Black-Scholes\n",
    "C_ba = bachelier(sigma, S, K, r, T, t)      #Bachelier"
   ]
  },
  {
   "cell_type": "code",
   "execution_count": 6,
   "id": "c7c1b230",
   "metadata": {},
   "outputs": [
    {
     "data": {
      "text/plain": [
       "Text(0, 0.5, 'Optionsværdi')"
      ]
     },
     "execution_count": 6,
     "metadata": {},
     "output_type": "execute_result"
    },
    {
     "data": {
      "image/png": "[encoded data removed]",
      "text/plain": [
       "<Figure size 432x288 with 1 Axes>"
      ]
     },
     "metadata": {
      "needs_background": "light"
     },
     "output_type": "display_data"
    }
   ],
   "source": [
    "#  Plot the results\n",
    "plt.plot(S, C_bs, 'k', label = 'Black-Scholes')\n",
    "plt.plot(S, C_ba, 'b', label = 'Bachelier')\n",
    "plt.grid(True)\n",
    "plt.legend()\n",
    "plt.xlabel('S(t)')\n",
    "plt.ylabel('Optionsværdi')"
   ]
  },
  {
   "cell_type": "code",
   "execution_count": null,
   "id": "1c104c76",
   "metadata": {},
   "outputs": [],
   "source": []
  }
 ],
 "metadata": {
  "kernelspec": {
   "display_name": "Python 3",
   "language": "python",
   "name": "python3"
  },
  "language_info": {
   "codemirror_mode": {
    "name": "ipython",
    "version": 3
   },
   "file_extension": ".py",
   "mimetype": "text/x-python",
   "name": "python",
   "nbconvert_exporter": "python",
   "pygments_lexer": "ipython3",
   "version": "3.8.8"
  }
 },
 "nbformat": 4,
 "nbformat_minor": 5
}
