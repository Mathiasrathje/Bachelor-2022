{
 "cells": [
  {
   "cell_type": "code",
   "execution_count": 1,
   "id": "a98f4994",
   "metadata": {},
   "outputs": [],
   "source": [
    "import numpy as np\n",
    "import matplotlib.pyplot as plt\n",
    "from scipy.stats import norm\n",
    "from statistics import mean\n",
    "import pandas as pd\n",
    "import math \n",
    "import scipy.stats as si"
   ]
  },
  {
   "cell_type": "code",
   "execution_count": 2,
   "id": "a90f5ddc",
   "metadata": {},
   "outputs": [],
   "source": [
    "plt.rc('xtick', labelsize=15) \n",
    "plt.rc('ytick', labelsize=15) \n",
    "plt.rcParams['figure.figsize'] = [8, 6]"
   ]
  },
  {
   "cell_type": "code",
   "execution_count": 3,
   "id": "027a2c7a",
   "metadata": {},
   "outputs": [],
   "source": [
    "def BS_call_price_delta(sigma, S, K, r, T, t, Greek):\n",
    "    \n",
    "    if Greek == 'Price' and T > 0: # Pris for en call option\n",
    "        d1 = np.multiply(1. / (sigma*np.sqrt((T-t))),(np.log(S/K) + (r + sigma**2 / 2.) * (T-t)))\n",
    "        d2 = d1 - sigma * np.sqrt((T-t))\n",
    "        result = np.multiply(norm.cdf(d1),S) - np.multiply(norm.cdf(d2) * K, np.exp(-r * (T-t)))\n",
    "        \n",
    "    if Greek == 'Price' and T == 0:\n",
    "        result = max(S-K,0)\n",
    "    \n",
    "    if Greek == \"Delta\" and T > 0: # dC/dS = Delta - Hvor meget vi skal købe/sælge af det underliggende aktiv\n",
    "        d1 = np.multiply(1. / (sigma*np.sqrt((T-t))),(np.log(S/K) + (r + sigma**2 / 2.) * (T-t)))\n",
    "        result = norm.cdf(d1)\n",
    "        \n",
    "    \n",
    "    if Greek == 'Delta' and T == 0:\n",
    "        result = 0\n",
    "    \n",
    "    return result"
   ]
  },
  {
   "cell_type": "markdown",
   "id": "a7958c6f",
   "metadata": {},
   "source": [
    "## Simulering af underliggende aktiv"
   ]
  },
  {
   "cell_type": "code",
   "execution_count": 4,
   "id": "5653fff8",
   "metadata": {},
   "outputs": [],
   "source": [
    "S0 = 100 #stock price S_{0}\n",
    "K = 100 # strike\n",
    "T = 14/52 # time to maturity\n",
    "t = 0\n",
    "mu = 0.02 # risk free risk in annual %\n",
    "sigma = 0.2 # annual volatility in %\n",
    "steps = 70 # time steps\n",
    "N = 1 # number of trials (\"Antal aktier\")"
   ]
  },
  {
   "cell_type": "code",
   "execution_count": 5,
   "id": "8db0e949",
   "metadata": {},
   "outputs": [
    {
     "data": {
      "image/png": "[encoded data removed]",
      "text/plain": [
       "<Figure size 576x432 with 1 Axes>"
      ]
     },
     "metadata": {
      "needs_background": "light"
     },
     "output_type": "display_data"
    }
   ],
   "source": [
    "dt = T/steps\n",
    "\n",
    "St = np.exp(\n",
    "    (mu - sigma ** 2 / 2) * dt\n",
    "    + sigma * np.random.normal(0, np.sqrt(dt), size=(N,steps)).T)\n",
    "St = np.vstack([np.ones(N), St])\n",
    "\n",
    "\n",
    "St = S0 * St.cumprod(axis=0)\n",
    "\n",
    "time = np.linspace(0,T,steps+1)\n",
    "\n",
    "\n",
    "tt = np.full(shape=(N,steps+1), fill_value=time).T\n",
    "\n",
    "plt.plot(tt, St)\n",
    "plt.ylabel(\"Pris $(S_t)$\", fontsize=14)\n",
    "plt.xlabel(\"Tid $(t)$\",fontsize=14);\n",
    "plt.show()"
   ]
  },
  {
   "cell_type": "markdown",
   "id": "3b10765e",
   "metadata": {},
   "source": [
    "### Finder pris og delta på underliggende hver uge"
   ]
  },
  {
   "cell_type": "code",
   "execution_count": 6,
   "id": "5af6a67b",
   "metadata": {},
   "outputs": [],
   "source": [
    "liste = []\n",
    "for i in range(15):\n",
    "    liste.append(St[5*i][0])"
   ]
  },
  {
   "cell_type": "code",
   "execution_count": 7,
   "id": "a1b5a91d",
   "metadata": {
    "scrolled": true
   },
   "outputs": [],
   "source": [
    "delta_liste = []\n",
    "for i in range(14):\n",
    "    delta_liste.append(BS_call_price_delta(0.2,St[5*i][0],100,0.02,(14-i)/52, 0, \"Delta\"))\n",
    "delta_liste.append(BS_call_price_delta(0.2,St[5*i][0],100,0.02,(14-13.99)/52, 0, \"Delta\"))"
   ]
  },
  {
   "cell_type": "markdown",
   "id": "75c8b3bf",
   "metadata": {},
   "source": [
    "## Simulering af diskret delta hedge eksperiment"
   ]
  },
  {
   "cell_type": "code",
   "execution_count": 8,
   "id": "665f8d42",
   "metadata": {},
   "outputs": [],
   "source": [
    "def GBM_sim(S, mu, T, sigma, steps):\n",
    "    '''\n",
    "    Vores Geomeriske brownian motion simulering, hvor vi også får et array med tiden\n",
    "    '''\n",
    "    dt = T/steps\n",
    "    W = np.random.standard_normal(size=steps-1)\n",
    "    W = np.array([0] + list(np.cumsum(W)*np.sqrt(dt)))\n",
    "    t = np.linspace(0, T, steps)\n",
    "    S = S*np.exp((mu - 0.5*sigma**2)*t + sigma*W)\n",
    "    return S,t"
   ]
  },
  {
   "cell_type": "code",
   "execution_count": 9,
   "id": "cf4c858b",
   "metadata": {},
   "outputs": [],
   "source": [
    "def delta(S,K,T,r,q,sigma):\n",
    "    '''\n",
    "    Vores delta funktion kan håndtere inputs af arrays \n",
    "    '''\n",
    "    d1 = (np.log(S/K) + (r - q + 0.5*sigma**2)*T)/(sigma*np.sqrt(T))\n",
    "    return si.norm.cdf(d1)*np.exp(-q*T)"
   ]
  },
  {
   "cell_type": "code",
   "execution_count": 10,
   "id": "7b7f9af1",
   "metadata": {},
   "outputs": [
    {
     "name": "stderr",
     "output_type": "stream",
     "text": [
      "<ipython-input-9-890588db5ca2>:5: RuntimeWarning: divide by zero encountered in true_divide\n",
      "  d1 = (np.log(S/K) + (r - q + 0.5*sigma**2)*T)/(sigma*np.sqrt(T))\n"
     ]
    }
   ],
   "source": [
    "N = 1 \n",
    "\n",
    "S0 = 100; K = 100; T = 14/52; r = 0.02; q = 0.0; sigma = 0.2 \n",
    "\n",
    "steps = 1+70 # \n",
    "\n",
    "path = GBM_sim(S0, r-q, T, sigma ,steps)\n",
    "\n",
    "# Define time interval correctly \n",
    "time = np.linspace(0,T,steps)\n",
    "\n",
    "# Require numpy array that is the same shape as St\n",
    "tt = np.full(shape=(1,steps), fill_value=time).T\n",
    "T_T = np.transpose(tt)[0][::-1]\n",
    "T_T\n",
    "\n",
    "\n",
    "St = path[0]; \n",
    "ttm = 1.0 - path[1]; \n",
    "dt = T/steps\n",
    "\n",
    "d = delta(St, K, T_T, r, q, sigma)\n",
    "\n",
    "# Initial Position\n",
    "n_shares = [d[0]*N]\n",
    "cost_of_shares = [n_shares[0]*S0]\n",
    "\n",
    "cumulative_cost = [n_shares[0]*S0]\n",
    "\n",
    "interest_cost = [cumulative_cost[0]*r*dt]\n",
    "\n",
    "# Rebalancing\n",
    "for i in range(1, len(d)):\n",
    "    diff = d[i] - d[i-1]\n",
    "    n_shares.append(diff*N)\n",
    "    cost_of_shares.append(n_shares[i]*St[i])\n",
    "    cumulative_cost.append(cost_of_shares[i] + cumulative_cost[i-1])\n",
    "    interest_cost.append(cumulative_cost[i]*r*dt)\n",
    "    \n",
    "sim = pd.DataFrame({'Stock Price':St, 'Delta':np.round(d, 2),'Shares Purchased':np.array(n_shares)*100,\n",
    "                    'Cost of Shares':np.array(cost_of_shares)*100,\n",
    "                    'Cumulative Cost':np.array(cumulative_cost)*100,\n",
    "                    'Interest Cost':np.array(interest_cost)*100})"
   ]
  },
  {
   "cell_type": "markdown",
   "id": "2cec00e6",
   "metadata": {},
   "source": [
    "### Udregning af diverse værdier til samlet P&L"
   ]
  },
  {
   "cell_type": "code",
   "execution_count": 11,
   "id": "b8af5e8b",
   "metadata": {},
   "outputs": [],
   "source": [
    "# Værdien af porteføljen i udløbstidspunktet\n",
    "Værdi_Port = round(sim[\"Stock Price\"][steps-1]*sim[\"Shares Purchased\"].sum(),3)\n",
    "\n",
    "# Samlet renteomkostninger i udløbstidspunktet\n",
    "Total_Interest = round(sim[\"Interest Cost\"].sum(),3)\n",
    "\n",
    "# Modtaget premium i starttidspunktet ved salg af optionerne\n",
    "Premium = BS_call_price_delta(sigma, St[0], K, r, T_T[0], 0, \"Price\")*100\n",
    "\n",
    "# Premium inkl. modtaget rente efter at have den i banken i T periode.\n",
    "Premium_efterrente = round(Premium*(1+r*T_T[0]),3)\n",
    "\n",
    "# Den payoff man skal betale til køberen af optionen hvis S_T > K\n",
    "if sim[\"Stock Price\"][steps-1] > K:\n",
    "    Betaling_payoff = round((sim[\"Stock Price\"][steps-1] - K)*100,3)\n",
    "else:\n",
    "    Betaling_payoff = 0\n",
    "\n",
    "# Omkostninger ved rebalancering af porteføljen\n",
    "Total_omk = round(sim[\"Cost of Shares\"].sum(),3)"
   ]
  },
  {
   "cell_type": "code",
   "execution_count": 12,
   "id": "e6765f2d",
   "metadata": {},
   "outputs": [],
   "source": [
    "Profit_samlet = sim[\"Stock Price\"][steps-1]*sim[\"Shares Purchased\"].sum() - sim[\"Interest Cost\"].sum() \\\n",
    "+(BS_call_price_delta(sigma, St[0], K, r, T_T[0], 0, \"Price\")*100)*(1+r*T_T[0]) \\\n",
    "- Betaling_payoff- sim[\"Cost of Shares\"].sum()"
   ]
  },
  {
   "cell_type": "code",
   "execution_count": 13,
   "id": "f92fb49c",
   "metadata": {
    "scrolled": true
   },
   "outputs": [],
   "source": [
    "data = [['Samlet Renteomkostninger',-Total_Interest],\\\n",
    "        ['Samlet værdi af porteføljen', Værdi_Port],\n",
    "        ['Samlet omkostninger ved rebalancering af porteføljen', -Total_omk],\n",
    "        ['Modtaget premium fra salg af optioner inkl. rente', Premium_efterrente],\n",
    "        ['Betaling af payoff', -Betaling_payoff]]\n",
    "data_df = pd.DataFrame(data, columns = [\"Omkostning\",\"Pris\"])\n",
    "data_df.loc[len(data_df.index)] = [\"Samlet profit\",data_df.sum(axis=0)[1]] # Tilføjer samlet profit"
   ]
  },
  {
   "cell_type": "markdown",
   "id": "95ba0cec",
   "metadata": {},
   "source": [
    "## Simulering af dynamisk delta hedging - Rebalancering hver uge"
   ]
  },
  {
   "cell_type": "code",
   "execution_count": 14,
   "id": "a1f383d6",
   "metadata": {},
   "outputs": [
    {
     "name": "stderr",
     "output_type": "stream",
     "text": [
      "<ipython-input-9-890588db5ca2>:5: RuntimeWarning: divide by zero encountered in true_divide\n",
      "  d1 = (np.log(S/K) + (r - q + 0.5*sigma**2)*T)/(sigma*np.sqrt(T))\n"
     ]
    },
    {
     "data": {
      "image/png": "[encoded data removed]",
      "text/plain": [
       "<Figure size 576x432 with 1 Axes>"
      ]
     },
     "metadata": {
      "needs_background": "light"
     },
     "output_type": "display_data"
    }
   ],
   "source": [
    "profit_liste = []\n",
    "\n",
    "N = 1\n",
    "\n",
    "S0 = 100; K = 100; T = 14/52; r = 0.02; q = 0.0; sigma = 0.2 \n",
    "\n",
    "steps = 1+14\n",
    "\n",
    "antal_sim = 10000\n",
    "\n",
    "\n",
    "for j in range(antal_sim):\n",
    "    path = GBM_sim(S0, r- q, T, sigma ,steps)\n",
    "\n",
    "    # Define time interval correctly \n",
    "    time = np.linspace(0,T,steps)\n",
    "\n",
    "    # Require numpy array that is the same shape as St\n",
    "    tt = np.full(shape=(1,steps), fill_value=time).T\n",
    "    T_T = np.transpose(tt)[0][::-1]\n",
    "    T_T\n",
    "\n",
    "\n",
    "    St = path[0]; \n",
    "    ttm = 1.0 - path[1]; \n",
    "    dt = T/steps\n",
    "\n",
    "    d = delta(St, K, T_T, r, q, sigma)\n",
    "\n",
    "    # Initial Position\n",
    "    n_shares = [d[0]*N]\n",
    "    cost_of_shares = [n_shares[0]*S0]\n",
    "\n",
    "    cumulative_cost = [n_shares[0]*S0]\n",
    "\n",
    "    interest_cost = [cumulative_cost[0]*r*dt]\n",
    "\n",
    "    # Rebalancing\n",
    "    for i in range(1, len(d)):\n",
    "        diff = d[i] - d[i-1]\n",
    "        n_shares.append(diff*N)\n",
    "        cost_of_shares.append(n_shares[i]*St[i])\n",
    "        cumulative_cost.append(cost_of_shares[i] + cumulative_cost[i-1])\n",
    "        interest_cost.append(cumulative_cost[i]*r*dt)\n",
    "\n",
    "    sim = pd.DataFrame({'Stock Price':St, 'Delta':np.round(d, 2),'Shares Purchased':np.array(n_shares)*100,\n",
    "                        'Cost of Shares':np.array(cost_of_shares)*100,\n",
    "                        'Cumulative Cost':np.array(cumulative_cost)*100,\n",
    "                        'Interest Cost':np.array(interest_cost)*100})\n",
    "\n",
    "    if sim[\"Stock Price\"][steps-1] > K:\n",
    "        Betaling_payoff = round((sim[\"Stock Price\"][steps-1] - K)*100,3)\n",
    "    else:\n",
    "        Betaling_payoff = 0\n",
    "    \n",
    "    Profit_samlet = sim[\"Stock Price\"][steps-1]*sim[\"Shares Purchased\"].sum() - sim[\"Interest Cost\"].sum() \\\n",
    "    +(BS_call_price_delta(sigma, St[0], K, r, T_T[0], 0, \"Price\")*100)*(1+r*T_T[0]) \\\n",
    "    - Betaling_payoff- sim[\"Cost of Shares\"].sum()\n",
    "    \n",
    "    profit_liste.append(Profit_samlet)\n",
    "    \n",
    "plt.hist(profit_liste,density = True, bins = 30)\n",
    "plt.ylabel('Sandsynlighed', fontsize=14)\n",
    "plt.xlabel('P&L',fontsize=14);\n",
    "mean(profit_liste),np.percentile(profit_liste,5)\n",
    "plt.axvline(mean(profit_liste), color='k', linestyle='dashed', linewidth=3)\n",
    "plt.axvline(np.percentile(profit_liste,5), color='r', linestyle='dashed', linewidth=3)\n",
    "plt.axvline(np.percentile(profit_liste,95), color='b', linestyle='dashed', linewidth=3)\n",
    "min_ylim, max_ylim = plt.ylim()\n",
    "plt.text(np.percentile(profit_liste,0), max_ylim*0.9, '95. percentil:  {:.2f}'.format(np.percentile(profit_liste,95)), size = \"x-large\").set_color('blue')\n",
    "plt.text(np.percentile(profit_liste,0), max_ylim*0.8, 'Middelværdi: {:.2f}'.format(mean(profit_liste)),size = \"x-large\")\n",
    "plt.text(np.percentile(profit_liste,0), max_ylim*0.7, '5. percentil:   {:.2f}'.format(np.percentile(profit_liste,5)),size = \"x-large\").set_color('red')\n",
    "plt.show()"
   ]
  },
  {
   "cell_type": "markdown",
   "id": "3893f593",
   "metadata": {},
   "source": [
    "## Simulering af diskret delta hedging - rebalancering hver dag"
   ]
  },
  {
   "cell_type": "code",
   "execution_count": 15,
   "id": "249f1968",
   "metadata": {},
   "outputs": [
    {
     "name": "stderr",
     "output_type": "stream",
     "text": [
      "<ipython-input-9-890588db5ca2>:5: RuntimeWarning: divide by zero encountered in true_divide\n",
      "  d1 = (np.log(S/K) + (r - q + 0.5*sigma**2)*T)/(sigma*np.sqrt(T))\n"
     ]
    },
    {
     "data": {
      "image/png": "[encoded data removed]",
      "text/plain": [
       "<Figure size 576x432 with 1 Axes>"
      ]
     },
     "metadata": {
      "needs_background": "light"
     },
     "output_type": "display_data"
    }
   ],
   "source": [
    "profit_liste = []\n",
    "\n",
    "N = 1\n",
    "\n",
    "S0 = 100; K = 100; T = 14/52; r = 0.02; q = 0.0; sigma = 0.2 \n",
    "\n",
    "steps = 1+70\n",
    "\n",
    "antal_sim = 10000\n",
    "\n",
    "\n",
    "for j in range(antal_sim):\n",
    "    path = GBM_sim(S0, r- q, T, sigma ,steps)\n",
    "\n",
    "    # Define time interval correctly \n",
    "    time = np.linspace(0,T,steps)\n",
    "\n",
    "    # Require numpy array that is the same shape as St\n",
    "    tt = np.full(shape=(1,steps), fill_value=time).T\n",
    "    T_T = np.transpose(tt)[0][::-1]\n",
    "    T_T\n",
    "\n",
    "\n",
    "    St = path[0]; \n",
    "    ttm = 1.0 - path[1]; \n",
    "    dt = T/steps\n",
    "\n",
    "    d = delta(St, K, T_T, r, q, sigma)\n",
    "\n",
    "    # Initial Position\n",
    "    n_shares = [d[0]*N]\n",
    "    cost_of_shares = [n_shares[0]*S0]\n",
    "\n",
    "    cumulative_cost = [n_shares[0]*S0]\n",
    "\n",
    "    interest_cost = [cumulative_cost[0]*r*dt]\n",
    "\n",
    "    # Rebalancing\n",
    "    for i in range(1, len(d)):\n",
    "        diff = d[i] - d[i-1]\n",
    "        n_shares.append(diff*N)\n",
    "        cost_of_shares.append(n_shares[i]*St[i])\n",
    "        cumulative_cost.append(cost_of_shares[i] + cumulative_cost[i-1])\n",
    "        interest_cost.append(cumulative_cost[i]*r*dt)\n",
    "\n",
    "    sim = pd.DataFrame({'Stock Price':St, 'Delta':np.round(d, 2),'Shares Purchased':np.array(n_shares)*100,\n",
    "                        'Cost of Shares':np.array(cost_of_shares)*100,\n",
    "                        'Cumulative Cost':np.array(cumulative_cost)*100,\n",
    "                        'Interest Cost':np.array(interest_cost)*100})\n",
    "\n",
    "    if sim[\"Stock Price\"][steps-1] > K:\n",
    "        Betaling_payoff = round((sim[\"Stock Price\"][steps-1] - K)*100,3)\n",
    "    else:\n",
    "        Betaling_payoff = 0\n",
    "    \n",
    "    Profit_samlet = sim[\"Stock Price\"][steps-1]*sim[\"Shares Purchased\"].sum() - sim[\"Interest Cost\"].sum() \\\n",
    "    +(BS_call_price_delta(sigma, St[0], K, r, T_T[0], 0, \"Price\")*100)*(1+r*T_T[0]) \\\n",
    "    - Betaling_payoff- sim[\"Cost of Shares\"].sum()\n",
    "    \n",
    "    profit_liste.append(Profit_samlet)\n",
    "plt.hist(profit_liste,density = True, bins = 30)\n",
    "plt.ylabel('Sandsynlighed', fontsize=14)\n",
    "plt.xlabel('P&L',fontsize=14);\n",
    "mean(profit_liste),np.percentile(profit_liste,5)\n",
    "plt.axvline(mean(profit_liste), color='k', linestyle='dashed', linewidth=3)\n",
    "plt.axvline(np.percentile(profit_liste,5), color='r', linestyle='dashed', linewidth=3)\n",
    "plt.axvline(np.percentile(profit_liste,95), color='b', linestyle='dashed', linewidth=3)\n",
    "min_ylim, max_ylim = plt.ylim()\n",
    "plt.text(np.percentile(profit_liste,0), max_ylim*0.9, '95. percentil:  {:.2f}'.format(np.percentile(profit_liste,95)), size = \"x-large\").set_color('blue')\n",
    "plt.text(np.percentile(profit_liste,0), max_ylim*0.8, 'Middelværdi: {:.2f}'.format(mean(profit_liste)),size = \"x-large\")\n",
    "plt.text(np.percentile(profit_liste,0), max_ylim*0.7, '5. percentil:   {:.2f}'.format(np.percentile(profit_liste,5)),size = \"x-large\").set_color('red')\n",
    "plt.show()"
   ]
  },
  {
   "cell_type": "markdown",
   "id": "836441a6",
   "metadata": {},
   "source": [
    "## Simulering af diskret delta hedging - rebalancering hver time"
   ]
  },
  {
   "cell_type": "code",
   "execution_count": 16,
   "id": "9b8ac539",
   "metadata": {},
   "outputs": [
    {
     "name": "stderr",
     "output_type": "stream",
     "text": [
      "<ipython-input-9-890588db5ca2>:5: RuntimeWarning: divide by zero encountered in true_divide\n",
      "  d1 = (np.log(S/K) + (r - q + 0.5*sigma**2)*T)/(sigma*np.sqrt(T))\n"
     ]
    },
    {
     "data": {
      "image/png": "[encoded data removed]",
      "text/plain": [
       "<Figure size 576x432 with 1 Axes>"
      ]
     },
     "metadata": {
      "needs_background": "light"
     },
     "output_type": "display_data"
    }
   ],
   "source": [
    "profit_liste = []\n",
    "\n",
    "N = 1\n",
    "\n",
    "S0 = 100; K = 100; T = 14/52; r = 0.02; q = 0.0; sigma = 0.2 \n",
    "\n",
    "steps = 1+70*8\n",
    "\n",
    "antal_sim = 10000\n",
    "\n",
    "\n",
    "for j in range(antal_sim):\n",
    "    path = GBM_sim(S0, r- q, T, sigma ,steps)\n",
    "\n",
    "    # Define time interval correctly \n",
    "    time = np.linspace(0,T,steps)\n",
    "\n",
    "    # Require numpy array that is the same shape as St\n",
    "    tt = np.full(shape=(1,steps), fill_value=time).T\n",
    "    T_T = np.transpose(tt)[0][::-1]\n",
    "    T_T\n",
    "\n",
    "\n",
    "    St = path[0]; \n",
    "    ttm = 1.0 - path[1]; \n",
    "    dt = T/steps\n",
    "\n",
    "    d = delta(St, K, T_T, r, q, sigma)\n",
    "\n",
    "    # Initial Position\n",
    "    n_shares = [d[0]*N]\n",
    "    cost_of_shares = [n_shares[0]*S0]\n",
    "\n",
    "    cumulative_cost = [n_shares[0]*S0]\n",
    "\n",
    "    interest_cost = [cumulative_cost[0]*r*dt]\n",
    "\n",
    "    # Rebalancing\n",
    "    for i in range(1, len(d)):\n",
    "        diff = d[i] - d[i-1]\n",
    "        n_shares.append(diff*N)\n",
    "        cost_of_shares.append(n_shares[i]*St[i])\n",
    "        cumulative_cost.append(cost_of_shares[i] + cumulative_cost[i-1])\n",
    "        interest_cost.append(cumulative_cost[i]*r*dt)\n",
    "\n",
    "    sim = pd.DataFrame({'Stock Price':St, 'Delta':np.round(d, 2),'Shares Purchased':np.array(n_shares)*100,\n",
    "                        'Cost of Shares':np.array(cost_of_shares)*100,\n",
    "                        'Cumulative Cost':np.array(cumulative_cost)*100,\n",
    "                        'Interest Cost':np.array(interest_cost)*100})\n",
    "\n",
    "    if sim[\"Stock Price\"][steps-1] > K:\n",
    "        Betaling_payoff = round((sim[\"Stock Price\"][steps-1] - K)*100,3)\n",
    "    else:\n",
    "        Betaling_payoff = 0\n",
    "    \n",
    "    Profit_samlet = sim[\"Stock Price\"][steps-1]*sim[\"Shares Purchased\"].sum() -\\\n",
    "    sim[\"Interest Cost\"].sum() +(BS_call_price_delta(sigma, St[0], K, r, T_T[0], 0, \"Price\")*100)*(1+r*T_T[0]) \\\n",
    "    - Betaling_payoff- sim[\"Cost of Shares\"].sum()\n",
    "    profit_liste.append(Profit_samlet)\n",
    "plt.hist(profit_liste,density = True, bins = 30)\n",
    "plt.ylabel('Sandsynlighed', fontsize=14)\n",
    "plt.xlabel('P&L',fontsize=14);\n",
    "mean(profit_liste),np.percentile(profit_liste,5)\n",
    "plt.axvline(mean(profit_liste), color='k', linestyle='dashed', linewidth=3)\n",
    "plt.axvline(np.percentile(profit_liste,5), color='r', linestyle='dashed', linewidth=3)\n",
    "plt.axvline(np.percentile(profit_liste,95), color='b', linestyle='dashed', linewidth=3)\n",
    "min_ylim, max_ylim = plt.ylim()\n",
    "plt.text(np.percentile(profit_liste,0), max_ylim*0.9, '95. percentil:  {:.2f}'.format(np.percentile(profit_liste,95)), size = \"x-large\").set_color('blue')\n",
    "plt.text(np.percentile(profit_liste,0), max_ylim*0.8, 'Middelværdi: {:.2f}'.format(mean(profit_liste)),size = \"x-large\")\n",
    "plt.text(np.percentile(profit_liste,0), max_ylim*0.7, '5. percentil:   {:.2f}'.format(np.percentile(profit_liste,5)),size = \"x-large\").set_color('red')\n",
    "plt.show()"
   ]
  },
  {
   "cell_type": "code",
   "execution_count": null,
   "id": "ee535125",
   "metadata": {},
   "outputs": [],
   "source": []
  }
 ],
 "metadata": {
  "kernelspec": {
   "display_name": "Python 3",
   "language": "python",
   "name": "python3"
  },
  "language_info": {
   "codemirror_mode": {
    "name": "ipython",
    "version": 3
   },
   "file_extension": ".py",
   "mimetype": "text/x-python",
   "name": "python",
   "nbconvert_exporter": "python",
   "pygments_lexer": "ipython3",
   "version": "3.8.8"
  }
 },
 "nbformat": 4,
 "nbformat_minor": 5
}
