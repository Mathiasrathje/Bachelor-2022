{
 "cells": [
  {
   "cell_type": "code",
   "execution_count": 1,
   "id": "88434d94",
   "metadata": {},
   "outputs": [],
   "source": [
    "import numpy as np\n",
    "import matplotlib.pyplot as plt\n",
    "from scipy.stats import norm\n",
    "import pandas as pd\n",
    "from scipy.interpolate import make_interp_spline\n",
    "import matplotlib.pyplot as plt\n",
    "from sklearn.linear_model import LinearRegression"
   ]
  },
  {
   "cell_type": "code",
   "execution_count": 2,
   "id": "643c3811",
   "metadata": {},
   "outputs": [],
   "source": [
    "def BS_call_price_delta(sigma, S, K, r, T, t, Greek):\n",
    "    \n",
    "    if Greek == 'Price' and T > 0: # Pris for en call option\n",
    "        d1 = np.multiply(1. / (sigma*np.sqrt((T-t))),(np.log(S/K) + (r + sigma**2 / 2.) * (T-t)))\n",
    "        d2 = d1 - sigma * np.sqrt((T-t))\n",
    "        result = np.multiply(norm.cdf(d1),S) - np.multiply(norm.cdf(d2) * K, np.exp(-r * (T-t)))\n",
    "        \n",
    "    if Greek == 'Price' and T == 0:\n",
    "        result = max(S-K,0)\n",
    "    \n",
    "    if Greek == \"Delta\" and T > 0: # dC/dS = Delta - Hvor meget vi skal købe/sælge af det underliggende aktiv\n",
    "        d1 = np.multiply(1. / (sigma*np.sqrt((T-t))),(np.log(S/K) + (r + sigma**2 / 2.) * (T-t)))\n",
    "        result = norm.cdf(d1)\n",
    "        \n",
    "    \n",
    "    if Greek == 'Delta' and T == 0:\n",
    "        result = 0\n",
    "    \n",
    "    return result"
   ]
  },
  {
   "cell_type": "code",
   "execution_count": 3,
   "id": "e3615279",
   "metadata": {},
   "outputs": [],
   "source": [
    "### Parameter ###\n",
    "S_0 = 100.0 \n",
    "T = 1\n",
    "t = 0 \n",
    "K = 110\n",
    "r = 0.02\n",
    "mu = 0.1   \n",
    "# Trend/drift i markedet. \n",
    "# Lav mu -> kursen konvergere mod sit naturlige niveau (nuværende værdi) = mean reversion, eks. råstoffer.\n",
    "# Høj mu -> kursen bevæger sig mod en nyt niveau, følger enten høj/positiv eller lav/negativ trend/udvikling.\n",
    "antal_hedge = np.linspace(0,252,44)\n",
    "sigma = 0.2 # volatilitet\n",
    "Npaths = 10000 # Antal simuleringer"
   ]
  },
  {
   "cell_type": "code",
   "execution_count": 4,
   "id": "ab2574d3",
   "metadata": {},
   "outputs": [],
   "source": [
    "# Results\n",
    "S_t = [0.0] * Npaths\n",
    "Option_Payoff = [0.0] * Npaths\n",
    "Hedge_Payoff = [0.0] * Npaths\n",
    "Error = [0.0] * Npaths\n",
    "\n",
    "np.random.seed(12345)"
   ]
  },
  {
   "cell_type": "code",
   "execution_count": 5,
   "id": "97c24d4c",
   "metadata": {},
   "outputs": [
    {
     "name": "stdout",
     "output_type": "stream",
     "text": [
      "5\n",
      "11\n",
      "17\n",
      "23\n",
      "29\n",
      "35\n",
      "41\n",
      "46\n",
      "52\n",
      "58\n",
      "64\n",
      "70\n",
      "76\n",
      "82\n",
      "87\n",
      "93\n",
      "99\n",
      "105\n",
      "111\n",
      "117\n",
      "123\n",
      "128\n",
      "134\n",
      "140\n",
      "146\n",
      "152\n",
      "158\n",
      "164\n",
      "169\n",
      "175\n",
      "181\n",
      "187\n",
      "193\n",
      "199\n",
      "205\n",
      "210\n",
      "216\n",
      "222\n",
      "228\n",
      "234\n",
      "240\n",
      "246\n",
      "252\n"
     ]
    }
   ],
   "source": [
    "list_of_data = []\n",
    "list_of_Error = []\n",
    "### Simulation Engine ###\n",
    "# Loop over Antal hedge\n",
    "for Nhedgepoints in antal_hedge[1:]:\n",
    "    hedge = int(Nhedgepoints)\n",
    "    dt = (T-t)/Nhedgepoints\n",
    "    print(hedge)\n",
    "    # Loop over Npaths\n",
    "    for j in range(0, Npaths):\n",
    "        S = S_0\n",
    "   \n",
    "        # DeltaHedge\n",
    "        V = BS_call_price_delta(sigma, S, K, r, T, t, \"Price\") # Start investering i call-option: Pris på call-option\n",
    "        a = BS_call_price_delta(sigma, S, K, r, T, t, \"Delta\") # Investering i underliggende aktiv <- delta\n",
    "        b = V-a*S # Resten af sine penge i banken, self-fin. Cond. \n",
    "        # Loop over Nhedgepoints\n",
    "        for i in range(0, hedge+1):\n",
    "            eps = np.random.normal(0, 1) # Normeps=random.normal() simulate outcome of N(0,1)\n",
    "            S = S*np.exp((mu-sigma**2/2)*dt+sigma*np.sqrt(dt)*eps)\n",
    "            # Delta-Hedge\n",
    "            V = a*S+b*np.exp(r*dt) # Værdien af ens portefølje på nuværende tidspunkt: underliggende aktiv + penge i banken\n",
    "            a = BS_call_price_delta(sigma, S, K, r, T-i*dt, t, \"Delta\") # Finder delta for det nuværende tidspunkt\n",
    "            b = V-a*S # Hvor mange penge vi har i banken til nuværende tidspunkt\n",
    "   \n",
    "        S_t[j] = S # Samler alle aktiekurser til udløb\n",
    "        Hedge_Payoff[j] = V # Samler alle værdier af porteføljer til udløb\n",
    "        Option_Payoff[j] = BS_call_price_delta(sigma, S, K, r, 0, 0, \"Price\") # Samler payoff på alle call option\n",
    "\n",
    "    # Calc Error\n",
    "    list_of_data.append(S_t[:])\n",
    "    list_of_data.append(Hedge_Payoff[:])\n",
    "    list_of_data.append(Option_Payoff[:])\n",
    "    Error = np.array(Hedge_Payoff) - np.array(Option_Payoff)\n",
    "    list_of_Error.append(Error)"
   ]
  },
  {
   "cell_type": "code",
   "execution_count": 6,
   "id": "d43f53b2",
   "metadata": {},
   "outputs": [],
   "source": [
    "df = pd.DataFrame(data=list_of_Error)\n",
    "df1 = df.to_numpy()"
   ]
  },
  {
   "cell_type": "code",
   "execution_count": 7,
   "id": "5b0012ce",
   "metadata": {},
   "outputs": [],
   "source": [
    "x = antal_hedge[1:]\n",
    "y = [np.std(e) for e in df1]\n",
    "xmax = x.max()\n",
    "xmin = x.min()\n",
    "\n",
    "\n",
    "X_Y_Spline = make_interp_spline(x, y)\n",
    "\n",
    "X_ = np.linspace(xmin, xmax, 10000)\n",
    "Y_ = X_Y_Spline(X_)"
   ]
  },
  {
   "cell_type": "code",
   "execution_count": 8,
   "id": "3d86063c",
   "metadata": {},
   "outputs": [
    {
     "data": {
      "text/plain": [
       "(0.0, 3.5)"
      ]
     },
     "execution_count": 8,
     "metadata": {},
     "output_type": "execute_result"
    },
    {
     "data": {
      "image/png": "[encoded data removed]",
      "text/plain": [
       "<Figure size 720x288 with 1 Axes>"
      ]
     },
     "metadata": {
      "needs_background": "light"
     },
     "output_type": "display_data"
    }
   ],
   "source": [
    "fig, ax = plt.subplots(figsize=(10,4))\n",
    "ax.plot(antal_hedge[1:],[np.std(e) for e in df.to_numpy()],label='SD vs Hedging Errors')\n",
    "ax.set_xlabel('Hedging frekvens', fontsize=12)\n",
    "ax.set_ylabel('Standardafvigelse', fontsize=12)\n",
    "ax.legend(fontsize=12);\n",
    "ax.set_xlim([0, 275])\n",
    "ax.set_ylim([0, 3.5])"
   ]
  },
  {
   "cell_type": "code",
   "execution_count": 9,
   "id": "52a79c7f",
   "metadata": {},
   "outputs": [
    {
     "name": "stderr",
     "output_type": "stream",
     "text": [
      "<ipython-input-9-90ca4c201776>:8: UserWarning: Attempted to set non-positive left xlim on a log-scaled axis.\n",
      "Invalid limit will be ignored.\n",
      "  ax.set_xlim([0,300])\n",
      "<ipython-input-9-90ca4c201776>:9: UserWarning: Attempted to set non-positive bottom ylim on a log-scaled axis.\n",
      "Invalid limit will be ignored.\n",
      "  ax.set_ylim([0,4])\n"
     ]
    },
    {
     "data": {
      "text/plain": [
       "(0.43379202027196206, 4)"
      ]
     },
     "execution_count": 9,
     "metadata": {},
     "output_type": "execute_result"
    },
    {
     "data": {
      "image/png": "[encoded data removed]",
      "text/plain": [
       "<Figure size 720x288 with 1 Axes>"
      ]
     },
     "metadata": {
      "needs_background": "light"
     },
     "output_type": "display_data"
    }
   ],
   "source": [
    "fig, ax = plt.subplots(figsize=(10,4))\n",
    "ax.plot(X_, Y_,label='log(SD vs Hedging Errors)')\n",
    "ax.set_xlabel('log(Hedging frekvens)', fontsize=12)\n",
    "ax.set_ylabel('log(Standardafvigelse)', fontsize=12)\n",
    "plt.yscale('log')\n",
    "plt.xscale('log')\n",
    "ax.legend(fontsize=12);\n",
    "ax.set_xlim([0,300])\n",
    "ax.set_ylim([0,4])"
   ]
  },
  {
   "cell_type": "code",
   "execution_count": 10,
   "id": "8a7aad6d",
   "metadata": {},
   "outputs": [],
   "source": [
    "new_Y = np.log(Y_)"
   ]
  },
  {
   "cell_type": "code",
   "execution_count": 11,
   "id": "a320d1ca",
   "metadata": {},
   "outputs": [],
   "source": [
    "new_x = np.log(X_)"
   ]
  },
  {
   "cell_type": "code",
   "execution_count": 12,
   "id": "b2d2b876",
   "metadata": {},
   "outputs": [],
   "source": [
    "new_X = new_x.reshape((-1, 1))"
   ]
  },
  {
   "cell_type": "code",
   "execution_count": 13,
   "id": "9d3fe934",
   "metadata": {
    "scrolled": true
   },
   "outputs": [],
   "source": [
    "model = LinearRegression().fit(new_X,new_Y)"
   ]
  },
  {
   "cell_type": "code",
   "execution_count": 14,
   "id": "a7046724",
   "metadata": {},
   "outputs": [
    {
     "name": "stdout",
     "output_type": "stream",
     "text": [
      "slope: [-0.49659923]\n"
     ]
    }
   ],
   "source": [
    "print(f\"slope: {model.coef_}\")"
   ]
  }
 ],
 "metadata": {
  "kernelspec": {
   "display_name": "Python 3",
   "language": "python",
   "name": "python3"
  },
  "language_info": {
   "codemirror_mode": {
    "name": "ipython",
    "version": 3
   },
   "file_extension": ".py",
   "mimetype": "text/x-python",
   "name": "python",
   "nbconvert_exporter": "python",
   "pygments_lexer": "ipython3",
   "version": "3.8.8"
  }
 },
 "nbformat": 4,
 "nbformat_minor": 5
}
